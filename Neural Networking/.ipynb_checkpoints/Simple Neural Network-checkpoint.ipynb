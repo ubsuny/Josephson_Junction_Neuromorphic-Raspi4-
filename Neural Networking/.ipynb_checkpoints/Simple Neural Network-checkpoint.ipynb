{
 "cells": [
  {
   "cell_type": "markdown",
   "id": "handed-fancy",
   "metadata": {},
   "source": [
    "# Simple Neural Network: Single Layer for an XOR Gate"
   ]
  },
  {
   "cell_type": "markdown",
   "id": "minute-perception",
   "metadata": {},
   "source": [
    "If I am going to demonstrate that Josephson Junctions can be used for neural networks, I need to create a base model of one and try to adapt it into a model that uses the coupled junctions.\n",
    "This Neural Network will be based off of the guide found [here](https://towardsdatascience.com/how-to-build-your-own-neural-network-from-scratch-in-python-68998a08e4f6)."
   ]
  },
  {
   "cell_type": "code",
   "execution_count": 27,
   "id": "logical-desire",
   "metadata": {},
   "outputs": [],
   "source": [
    "import numpy as np\n",
    "import matplotlib.pyplot as plt"
   ]
  },
  {
   "cell_type": "code",
   "execution_count": 28,
   "id": "focused-ribbon",
   "metadata": {},
   "outputs": [],
   "source": [
    "def sigmoid(x):\n",
    "    return 1.0/(1+ np.exp(-x))\n",
    "\n",
    "def sigmoid_derivative(x):\n",
    "    return x * (1.0 - x)\n",
    "\n",
    "class NeuralNetwork:\n",
    "    def __init__(self, x, y):\n",
    "        self.input      = x\n",
    "        self.weights1   = np.random.rand(self.input.shape[1],4) \n",
    "        self.weights2   = np.random.rand(4,1)                 \n",
    "        self.y          = y\n",
    "        self.output     = np.zeros(self.y.shape)\n",
    "\n",
    "    def feedforward(self):\n",
    "        self.layer1 = sigmoid(np.dot(self.input, self.weights1))\n",
    "        self.output = sigmoid(np.dot(self.layer1, self.weights2))\n",
    "\n",
    "    def backprop(self):\n",
    "        # application of the chain rule to find derivative of the loss function with respect to weights2 and weights1\n",
    "        d_weights2 = np.dot(self.layer1.T, (2*(self.y - self.output) * sigmoid_derivative(self.output)))\n",
    "        d_weights1 = np.dot(self.input.T,  (np.dot(2*(self.y - self.output) * sigmoid_derivative(self.output), self.weights2.T) * sigmoid_derivative(self.layer1)))\n",
    "\n",
    "        # update the weights with the derivative (slope) of the loss function\n",
    "        self.weights1 += d_weights1\n",
    "        self.weights2 += d_weights2"
   ]
  },
  {
   "cell_type": "markdown",
   "id": "oriented-station",
   "metadata": {},
   "source": [
    "Here the Neural Network has a single hidden layer beyond the input and output later. The neural network uses the sigmoid function for its activation: \\\n",
    "$\\sigma(x)=\\frac{1}{1+e^{-x}}$ \\\n",
    "The neural network assumes no bias and has two sets of weights. First being one weight per input, second being 4 total.\n",
    "The input into the system is data that models an XOR gate for two inputs, meaning that only a single input being one gives an output of one. The guide's function adds a third bit C that is always 1 and does not change the output, so I removed the extra bit just to make the example purely an XOR gate, which looks as follows:"
   ]
  },
  {
   "cell_type": "markdown",
   "id": "confident-kingston",
   "metadata": {},
   "source": [
    "| A | B | A XOR B |\n",
    "| :---: | :---: | :---: |\n",
    "| 0 | 0 | 0 |\n",
    "| 0 | 1 | 1 |\n",
    "| 1 | 0 | 1 |\n",
    "| 1 | 1 | 0 |"
   ]
  },
  {
   "cell_type": "code",
   "execution_count": 53,
   "id": "compliant-productivity",
   "metadata": {},
   "outputs": [
    {
     "name": "stdout",
     "output_type": "stream",
     "text": [
      "[[0.04883296]\n",
      " [0.9618067 ]\n",
      " [0.96305519]\n",
      " [0.02934945]]\n"
     ]
    }
   ],
   "source": [
    "# Here are the inputs\n",
    "x = np.array([[0,0],\n",
    "              [0,1],\n",
    "              [1,0],\n",
    "              [1,1]])\n",
    "# Here are the correct outputs\n",
    "y = np.array([[0],[1],[1],[0]])\n",
    "\n",
    "# Initialize neural network\n",
    "nn = NeuralNetwork(x,y)\n",
    "\n",
    "loss = []\n",
    "for i in range(1500):\n",
    "    nn.feedforward()\n",
    "    nn.backprop()\n",
    "    # Calculating loss as a sum of the squares of difference of error\n",
    "    loss.append(np.sum((y-nn.output)**2))\n",
    "\n",
    "print(nn.output)"
   ]
  },
  {
   "cell_type": "markdown",
   "id": "dimensional-saver",
   "metadata": {},
   "source": [
    "This neural network is now predicting the values of an XOR gate for any set of inputs. Note that the values are not exact because doing so prevents overfitting, which makes the neural network more capable of accepting more generalized inputs. We can also show the loss function given how many iterations we have trained our network with."
   ]
  },
  {
   "cell_type": "code",
   "execution_count": 54,
   "id": "entire-lloyd",
   "metadata": {},
   "outputs": [
    {
     "data": {
      "image/png": "[encoded data removed]",
      "text/plain": [
       "<Figure size 432x288 with 1 Axes>"
      ]
     },
     "metadata": {
      "needs_background": "light"
     },
     "output_type": "display_data"
    }
   ],
   "source": [
    "plt.plot(loss)\n",
    "plt.ylabel('Loss')\n",
    "plt.xlabel('Iterations')\n",
    "plt.title('Loss vs. Iterations')\n",
    "plt.show()"
   ]
  },
  {
   "cell_type": "markdown",
   "id": "homeless-democrat",
   "metadata": {},
   "source": [
    "As we can see, the losses are decaying exponentially and we have diminishing returns, which gives more reason to not increase the iterations without abandon. This simple neural network is a good base model to compare with a neural network comprised of other functions, weights, etcetera. The next task is to now recreate this by using the coupled neurons as the activation and the currents applied to them being the weights."
   ]
  }
 ],
 "metadata": {
  "kernelspec": {
   "display_name": "Python 3",
   "language": "python",
   "name": "python3"
  },
  "language_info": {
   "codemirror_mode": {
    "name": "ipython",
    "version": 3
   },
   "file_extension": ".py",
   "mimetype": "text/x-python",
   "name": "python",
   "nbconvert_exporter": "python",
   "pygments_lexer": "ipython3",
   "version": "3.7.3"
  }
 },
 "nbformat": 4,
 "nbformat_minor": 5
}
