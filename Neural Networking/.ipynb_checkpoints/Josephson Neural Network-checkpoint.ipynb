{
 "cells": [
  {
   "cell_type": "code",
   "execution_count": 1,
   "id": "possible-destination",
   "metadata": {},
   "outputs": [],
   "source": [
    "import numpy as np\n",
    "import matplotlib.pyplot as plt\n",
    "import jj"
   ]
  },
  {
   "cell_type": "markdown",
   "id": "musical-metropolitan",
   "metadata": {},
   "source": [
    "### Connecting Neurons\n",
    "The next step in creating a Spiking Neural Network is to be able to connect two neurons together. If we connect the neurons as presented in the [circuit](https://github.com/ubsuny/Josephson_Junction_Neuromorphic-Raspi4-/blob/87b64adf961712c6d819b1c553c51c26f8a4b849/Circuit.png) discussed. According to the paper by Crotty$^{[2]}$, the connection between the neurons can be defined by a set of coupled differential equations:\n",
    "$\\frac{1}{\\Omega_0^2}\\ddot{v}_{out}+\\frac{Q}{\\Omega_0}\\dot{v}_{out}+v_{out}=v_p-\\frac{Q \\Omega_0 \\Lambda_{syn}}{\\lambda}i_{12} - \\frac{\\Lambda_{syn}}{lambda}\\dot{i}_{12}$  \n",
    "\n",
    "$\\frac{\\Lambda_{syn}(1-\\Lambda_{syn})}{\\lambda}\\dot{i}_{12}+\\frac{r_{12}}{\\Gamma}i_{12}=v_{out}-\\Lambda_{syn}(v_{c2}+v_{p2})$  \n",
    "\n",
    "$\\Omega_0 = 1.0, Q = 0.05, \\Lambda_{syn} = 0.3, r_{12} = 1.4$, other parameters are the same, save for $i_b = 2.0, \\Gamma = 2.0$\n",
    "\n",
    "\n",
    "This gives both the output voltage and the input voltage based on the output voltage. This means it is now possible to adjust the input current to the neuron based on the voltage output."
   ]
  },
  {
   "cell_type": "code",
   "execution_count": 2,
   "id": "genuine-cycle",
   "metadata": {},
   "outputs": [],
   "source": [
    "## Time domain set up\n",
    "time = 10000 # Final Time\n",
    "n = time/0.05 # Resolution\n",
    "\n",
    "time = 300 # Final Time\n",
    "n = 20000 # Resolution\n",
    "\n",
    "dt = time / n # A single time step length\n",
    "tspan = np.arange(0, time, dt)  # time span\n",
    "ispan = np.zeros((2,np.size(tspan)))  # input current span\n",
    "\n",
    "## System Parameters\n",
    "lmda = 0.1\n",
    "gamma = 2.0\n",
    "lmda_s = 0.5\n",
    "lmda_p = 0.5\n",
    "eta = 1\n",
    "i_in = 0.3\n",
    "i_b = 2.0\n",
    "\n",
    "## Weight Parameters\n",
    "w = 1\n",
    "dw = 0\n",
    "threshold = 0.3\n",
    "\n",
    "A = 0.1 # Additive learning rate\n",
    "B = 0.1 # Reductive learning rate\n",
    "tau = 20 # Timescale of learning\n",
    "\n",
    "## Synapse parameters\n",
    "Q = 0.05\n",
    "lmda_syn = 0.3\n",
    "r12 = 1.4\n",
    "omega = 1.0\n",
    "\n",
    "\n",
    "## First Neuron Input Layer\n",
    "neuron1 = np.zeros((2,2,2,np.size(tspan))) # 2 neurons, pulse and control channel, phase and current, as long as t\n",
    "ii1 = np.zeros((2,2)) # 2 neurons, 2 input currents\n",
    "\n",
    "flux1 = np.zeros((2,np.size(tspan))) # 2 neurons, 1 flux, as long as t\n",
    "\n",
    "io1 = np.zeros((2,4,4)) # 2 neuron output currents connect to 4 neurons with four param i, di, v, and dv\n",
    "\n",
    "\n",
    "## First set of weights\n",
    "to1 = np.zeros((2,)) # original time of spike for 2 neurons\n",
    "#w1 = np.ones((2,4)) # 2 neurons, connected to four separate neurons\n",
    "w1 = np.random.rand(2,4)\n",
    "tf1 = np.zeros((4,)) # final time of spike for the 4 neurons\n",
    "last_fire1 = np.zeros((2,4))\n",
    "\n",
    "\n",
    "## Second Neuron Hidden Layer\n",
    "neuron2 = np.zeros((4,2,2,np.size(tspan))) # 4 neurons, 2 channels, as long as t\n",
    "ii2 = np.zeros((4,2)) # 4 neurons, 4 input currents\n",
    "\n",
    "flux2 = np.zeros((4,np.size(tspan))) # 4 neurons, 1 flux, as long as t\n",
    "\n",
    "io2 = np.zeros((4,1,4)) # 4 neuron output currents connect to 1 with four param i, di, v, and dv\n",
    "\n",
    "\n",
    "## Second set of weights\n",
    "to2 = np.zeros((4,))\n",
    "#w2 = np.ones((4,1)) # 4 neurons, connected to a single neuron\n",
    "w2 = np.random.rand(4,1)\n",
    "tf2 = np.zeros((1,))\n",
    "last_fire2 = np.zeros((1,4))\n",
    "\n",
    "## Third Neuron Output Layer\n",
    "\n",
    "neuron3 = np.zeros((1,2,2,np.size(tspan))) # 1 neurons, 2 channels, as long as t\n",
    "ii3 = np.zeros((1,2)) # 1 neurons, 2 input currents\n",
    "\n",
    "flux3 = np.zeros((1,np.size(tspan))) # 1 neurons, 1 flux, as long as t\n",
    "\n",
    "\n",
    "## Define input current\n",
    "ispan[0,int(np.size(ispan[0,:])/4):int(3*np.size(ispan[0,:])/4)] = i_in\n",
    "ispan[1,:] = i_in"
   ]
  },
  {
   "cell_type": "code",
   "execution_count": 3,
   "id": "built-plain",
   "metadata": {},
   "outputs": [],
   "source": [
    "## Initial Conditions, Nueron 1\n",
    "\n",
    "# Most IC's are 0, so I will not include the code for sake of time, but it can be added by slicing neuron1\n",
    "\n",
    "ii1[:,0] = -lmda*(neuron1[:,1,0,0] + neuron1[:,0,0,0]) + lmda_s*ispan[:,0] + (1-lmda_p)*i_b\n",
    "ii1[:,1] = (-lmda*(neuron1[:,1,0,0] + neuron1[:,0,0,0]) + lmda_s*ispan[:,0] - lmda_p*i_b)/eta\n",
    "\n",
    "## Initial Conditions, Synapse\n",
    "\n",
    "# Same as above\n",
    "\n",
    "## Initial Conditions, Neuron 2\n",
    "\n",
    "# Same as above\n",
    "\n",
    "ii2[:,0] = -lmda*(neuron2[:,1,0,0] + neuron2[:,0,0,0]) + lmda_s*0 + (1-lmda_p)*i_b\n",
    "ii2[:,1] = (-lmda*(neuron2[:,1,0,0] + neuron2[:,0,0,0]) + lmda_s*0 - lmda_p*i_b)/eta\n",
    "\n",
    "## Initial Conditions, Neuron 3\n",
    "\n",
    "ii3[:,0] = -lmda*(neuron3[:,1,0,0] + neuron3[:,0,0,0]) + lmda_s*0 + (1-lmda_p)*i_b\n",
    "ii3[:,1] = (-lmda*(neuron3[:,1,0,0] + neuron3[:,0,0,0]) + lmda_s*0 - lmda_p*i_b)/eta"
   ]
  },
  {
   "cell_type": "code",
   "execution_count": 4,
   "id": "split-worker",
   "metadata": {},
   "outputs": [
    {
     "name": "stdout",
     "output_type": "stream",
     "text": [
      "[[ 1.   -1.  ]\n",
      " [ 1.15 -0.85]]\n"
     ]
    }
   ],
   "source": [
    "print(ii1)"
   ]
  },
  {
   "cell_type": "code",
   "execution_count": 5,
   "id": "liquid-thomas",
   "metadata": {},
   "outputs": [
    {
     "data": {
      "text/plain": [
       "0.0"
      ]
     },
     "execution_count": 5,
     "metadata": {},
     "output_type": "execute_result"
    }
   ],
   "source": [
    "flux1[0,1]"
   ]
  },
  {
   "cell_type": "code",
   "execution_count": 6,
   "id": "technical-bruce",
   "metadata": {},
   "outputs": [],
   "source": [
    "oc = [0]  # Output Current to plot later\n",
    "wspan = [1]\n",
    "## Operate the Circuit\n",
    "for j in range(np.size(tspan)-1):\n",
    "    ## First Neuron\n",
    "    for i in [0,1]:\n",
    "        neuron1[i,0,:,j+1] = jj.junction_step(neuron1[i,0,0,j],neuron1[i,0,1,j],dt,gamma,ii1[i,0])\n",
    "        neuron1[i,1,:,j+1] = jj.junction_step(neuron1[i,1,0,j],neuron1[i,1,1,j],dt,gamma,ii1[i,1])\n",
    "        ii1[i,:] = jj.currents(lmda,neuron1[i,0,0,j+1],neuron1[i,1,0,j+1],lmda_s,ispan[i,j+1],lmda_p,i_b,eta)\n",
    "        flux1[i,j+1] = lmda*(neuron1[i,0,0,j+1] + neuron1[i,1,0,j+1])\n",
    "\n",
    "    \n",
    "        ## Check weights\n",
    "        if (flux1[i,j-1] < flux1[i,j] > flux1[i,j+1] and flux1[i,j] > threshold):\n",
    "            to1[i] = tspan[j]\n",
    "            for ii in [0,3]:    \n",
    "                if last_fire1[i,ii] == 1:\n",
    "                    w1[i,ii] = w1[i,ii] + jj.change_weights(A,B,tau,tf1[ii],to1[i])\n",
    "                    last_fire1[i,ii] = 0\n",
    "    \n",
    "    ## Output to Second Neuron\n",
    "        for ii in [0,1,2,3]:\n",
    "            io1[i,ii,:] = jj.synapse_step(io1[i,ii,0], io1[i,ii,1], io1[i,ii,2], io1[i,ii,3],\n",
    "                                          neuron1[i,0,1,j], neuron2[ii,0,1,j], neuron2[ii,1,1,j], \n",
    "                                          gamma, omega, Q, lmda, lmda_syn, r12, dt)\n",
    "   \n",
    "    #oc.append(w*i_o)\n",
    "    \n",
    "    ## Second Neuron\n",
    "    for i in [0,1,2,3]:\n",
    "        current1 = np.sum(w1[:,i]*io1[:,i,2])\n",
    "        neuron2[i,0,:,j+1] = jj.junction_step(neuron2[i,0,0,j],neuron2[i,0,1,j],dt,gamma,ii2[i,0])\n",
    "        neuron2[i,1,:,j+1] = jj.junction_step(neuron2[i,1,0,j],neuron2[i,1,1,j],dt,gamma,ii2[i,1])\n",
    "        ii2[i,:] = jj.currents(lmda,neuron2[i,0,0,j+1],neuron2[i,1,0,j+1],lmda_s,current1,lmda_p,i_b,eta)\n",
    "        flux2[i,j+1] = lmda*(neuron2[i,0,0,j+1] + neuron2[i,1,0,j+1])\n",
    "        \n",
    "        ## Check weights 1\n",
    "        if (flux2[i,j-1] < flux2[i,j] > flux2[i,j+1] and flux2[i,j] > threshold):\n",
    "            tf1[i] = tspan[j]\n",
    "            for ii in [0,1]:    \n",
    "                if last_fire1[ii,i] == 0:\n",
    "                    w1[ii,i] = w1[ii,i] + jj.change_weights(A,B,tau,tf1[i],to1[ii])\n",
    "                    last_fire1[ii,i] = 1\n",
    "                    \n",
    "        ## Check weights 2\n",
    "        if (flux2[i,j-1] < flux2[i,j] > flux2[i,j+1] and flux2[i,j] > threshold):\n",
    "            to2[i] = tspan[j]  \n",
    "            if last_fire2[0,i] == 1:\n",
    "                w2[i,0] = w2[i] + jj.change_weights(A,B,tau,tf2[0],to2[i])\n",
    "                last_fire2[0,i] = 0\n",
    "                    \n",
    "    ## Output to Third neuron\n",
    "        io2[i,0,:] = jj.synapse_step(io2[i,0,0], io2[i,0,2], io2[i,0,2], io2[i,0,3],\n",
    "                                      neuron2[i,0,1,j], neuron3[0,0,1,j], neuron3[0,1,1,j], \n",
    "                                      gamma, omega, Q, lmda, lmda_syn, r12, dt)\n",
    "    ## Third Neuron\n",
    "    current2 = np.sum(w2*io2[:,0,2])\n",
    "    neuron3[0,0,:,j+1] = jj.junction_step(neuron3[0,0,0,j],neuron3[0,0,1,j],dt,gamma,ii3[0,0])\n",
    "    neuron3[0,1,:,j+1] = jj.junction_step(neuron3[0,1,0,j],neuron3[0,1,1,j],dt,gamma,ii3[0,1])\n",
    "    ii3[0,:] = jj.currents(lmda,neuron3[0,0,0,j+1],neuron3[0,1,0,j+1],lmda_s,current1,lmda_p,i_b,eta)\n",
    "    flux3[0,j+1] = lmda*(neuron3[0,0,0,j+1] + neuron3[0,1,0,j+1])\n",
    "    \n",
    "    ## Check weights 2\n",
    "    if (flux3[0,j-1] < flux3[0,j] > flux3[0,j+1] and flux3[0,j] > threshold):\n",
    "        tf2[0] = tspan[j]\n",
    "        for ii in [0,1,2,3]:    \n",
    "            if last_fire2[0,ii] == 0:\n",
    "                w2[ii,0] = w2[ii,0] + jj.change_weights(A,B,tau,tf2[0],to2[ii])\n",
    "                last_fire2[0,ii] = 1"
   ]
  },
  {
   "cell_type": "code",
   "execution_count": 7,
   "id": "loving-seller",
   "metadata": {},
   "outputs": [
    {
     "data": {
      "text/plain": [
       "(1, 4)"
      ]
     },
     "execution_count": 7,
     "metadata": {},
     "output_type": "execute_result"
    }
   ],
   "source": [
    "np.shape(last_fire2)"
   ]
  },
  {
   "cell_type": "code",
   "execution_count": 8,
   "id": "increased-pacific",
   "metadata": {},
   "outputs": [
    {
     "data": {
      "image/png": "[encoded data removed]",
      "text/plain": [
       "<Figure size 432x288 with 2 Axes>"
      ]
     },
     "metadata": {},
     "output_type": "display_data"
    }
   ],
   "source": [
    "## Plotting\n",
    "fig, ax1 = plt.subplots()\n",
    "\n",
    "fig.patch.set_facecolor('white')\n",
    "\n",
    "ax1.set_xlabel('Time (arb. units)')\n",
    "ax1.set_ylabel('Flux (arb. units)')\n",
    "ax1.plot(tspan,flux3[0], 'b')\n",
    "\n",
    "# ax1.set_xlim(0,250)\n",
    "# ax1.set_ylim(-0.1,0.6)\n",
    "ax1.legend([\"Neuron 1\",\"Neuron 2\"],loc='upper left')\n",
    "\n",
    "ax2 = ax1.twinx()\n",
    "ax2.plot(tspan,ispan[0,:], 'r')\n",
    "ax2.plot(tspan,ispan[1,:], 'b-')\n",
    "ax2.set_ylim(-0.1,5)\n",
    "ax2.set_ylabel('Input Current')\n",
    "\n",
    "fig.tight_layout()\n",
    "plt.show()"
   ]
  },
  {
   "cell_type": "markdown",
   "id": "herbal-mobile",
   "metadata": {},
   "source": [
    "Here we can see the one neuron driving the other neuron based of of an input current. When the current drops to 0, there is no firing of either neuron. Given that we can calculate the potential and current from the output of a neuron, we can start to consider making a network of these connections."
   ]
  },
  {
   "cell_type": "markdown",
   "id": "lucky-flash",
   "metadata": {},
   "source": [
    "### Interpreting a Spike Train\n",
    "When simulating a spiking neural network, connecting neurons is done with a spike train, where a single spike increases the current and then begins to decay exponentially with time. (This is usually done with the membrane potential which translates to this behaviour for current) Here is the current output of the neuron used to connect them."
   ]
  },
  {
   "cell_type": "code",
   "execution_count": 9,
   "id": "aquatic-insertion",
   "metadata": {},
   "outputs": [
    {
     "data": {
      "image/png": "[encoded data removed]",
      "text/plain": [
       "<Figure size 432x288 with 1 Axes>"
      ]
     },
     "metadata": {
      "needs_background": "light"
     },
     "output_type": "display_data"
    }
   ],
   "source": [
    "plt.plot(tspan,ispan[0,:])\n",
    "plt.title('Current vs Time')\n",
    "plt.xlabel('Time (arb. units)')\n",
    "plt.ylabel('Current (arb. units)')\n",
    "plt.show()"
   ]
  },
  {
   "cell_type": "markdown",
   "id": "operating-fourth",
   "metadata": {},
   "source": [
    "The neuron model I use has the current transfer behave like we need it, so there is no need to convert the output of the neurons to spike trains, convert them to affect the potential and back into input current. There is current decay when no spiking is recieved, so this will be just what is needed to start applying weights to different neurons to form the network."
   ]
  },
  {
   "cell_type": "code",
   "execution_count": 10,
   "id": "boxed-agreement",
   "metadata": {},
   "outputs": [
    {
     "data": {
      "text/plain": [
       "array([[0.99970248, 0.23667847, 0.93303572, 0.93903215],\n",
       "       [0.97173865, 0.12279242, 0.57130367, 0.68720121]])"
      ]
     },
     "execution_count": 10,
     "metadata": {},
     "output_type": "execute_result"
    }
   ],
   "source": [
    "w1"
   ]
  },
  {
   "cell_type": "code",
   "execution_count": 11,
   "id": "determined-header",
   "metadata": {},
   "outputs": [
    {
     "data": {
      "text/plain": [
       "list"
      ]
     },
     "execution_count": 11,
     "metadata": {},
     "output_type": "execute_result"
    }
   ],
   "source": [
    "type(oc)"
   ]
  },
  {
   "cell_type": "code",
   "execution_count": 12,
   "id": "suited-terrorism",
   "metadata": {},
   "outputs": [
    {
     "data": {
      "text/plain": [
       "array([[[-8.39448530e-02,  1.19504269e-02, -5.92733477e-02,\n",
       "          3.74480498e-02],\n",
       "        [-4.37639162e-04, -1.59407891e-03,  2.00834962e-03,\n",
       "         -1.09750582e-04],\n",
       "        [ 2.00960048e-03, -1.38500315e-02,  4.98707126e-04,\n",
       "         -2.64812590e-03],\n",
       "        [ 6.25333266e-02,  1.19893076e-02, -5.61843146e-02,\n",
       "         -2.15602415e-02]],\n",
       "\n",
       "       [[ 3.94454279e-03,  4.62780648e-02,  6.09464974e-02,\n",
       "          3.89822932e-02],\n",
       "        [ 8.74517566e-02,  3.27335589e-02,  1.22228195e-01,\n",
       "          1.42449282e-03],\n",
       "        [ 8.98989963e-02,  2.04776064e-02,  1.20718552e-01,\n",
       "         -1.11388250e-03],\n",
       "        [ 1.50422722e-01,  4.63169454e-02,  6.40355305e-02,\n",
       "         -2.00259981e-02]]])"
      ]
     },
     "execution_count": 12,
     "metadata": {},
     "output_type": "execute_result"
    }
   ],
   "source": [
    "io1"
   ]
  },
  {
   "cell_type": "code",
   "execution_count": null,
   "id": "threaded-verse",
   "metadata": {},
   "outputs": [],
   "source": []
  }
 ],
 "metadata": {
  "kernelspec": {
   "display_name": "Python 3",
   "language": "python",
   "name": "python3"
  },
  "language_info": {
   "codemirror_mode": {
    "name": "ipython",
    "version": 3
   },
   "file_extension": ".py",
   "mimetype": "text/x-python",
   "name": "python",
   "nbconvert_exporter": "python",
   "pygments_lexer": "ipython3",
   "version": "3.7.3"
  }
 },
 "nbformat": 4,
 "nbformat_minor": 5
}
