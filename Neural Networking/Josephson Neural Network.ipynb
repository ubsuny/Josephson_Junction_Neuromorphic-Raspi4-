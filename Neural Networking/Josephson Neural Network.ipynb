{
 "cells": [
  {
   "cell_type": "code",
   "execution_count": 1,
   "id": "aggressive-rebel",
   "metadata": {},
   "outputs": [],
   "source": [
    "import sys\n",
    "import numpy as np\n",
    "import matplotlib.pyplot as plt\n",
    "import jj"
   ]
  },
  {
   "cell_type": "markdown",
   "id": "roman-procurement",
   "metadata": {},
   "source": [
    "### Spiking Neural Network Method\n",
    "\n",
    "Josephson Junctions modeled to make firing neurons would imply that they should be used in a specific type of neural network called a Spiking Neural Network. The main inclusion of this type of network is time into the operation. Another difference being the nonlinear and nondifferentiable behavior. Also now the connections between the neurons, the synapses, are weighted for passing current onto the connected neurons. The neuron has a particular threshold at which it will begin firing at different speeds. The weight being how many outputs fire divided by the number of inputs firing.\n",
    "My goals is to recreate the simple neural network with the same structure but with the Spiking Neural Network in mind."
   ]
  },
  {
   "cell_type": "markdown",
   "id": "brown-recycling",
   "metadata": {},
   "source": [
    "### Fitting the Sigmoid Function Method\n",
    "It is possible to fit the phase relation of the Josephson Junction to the sigmoid function used for the simple neural network to create a direct analogy with the artificial neural network. This can be done by adding a linear term near $\\varphi \\approx sin(\\varphi)$ in the regime of $\\phi_{in} \\approx 0$. This would allow a direct replacement of the sigmoid function in the basic model I created, which show the ability of the junction to be uses as a neural network."
   ]
  },
  {
   "cell_type": "markdown",
   "id": "alike-identity",
   "metadata": {},
   "source": [
    "Note, time depending I may only be able to realize one of these methods, but would act as further potential work to be done."
   ]
  }
 ],
 "metadata": {
  "kernelspec": {
   "display_name": "Python 3",
   "language": "python",
   "name": "python3"
  },
  "language_info": {
   "codemirror_mode": {
    "name": "ipython",
    "version": 3
   },
   "file_extension": ".py",
   "mimetype": "text/x-python",
   "name": "python",
   "nbconvert_exporter": "python",
   "pygments_lexer": "ipython3",
   "version": "3.7.3"
  }
 },
 "nbformat": 4,
 "nbformat_minor": 5
}
