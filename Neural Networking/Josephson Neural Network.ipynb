{
 "cells": [
  {
   "cell_type": "code",
   "execution_count": 35,
   "id": "conventional-entrepreneur",
   "metadata": {},
   "outputs": [],
   "source": [
    "import sys\n",
    "import numpy as np\n",
    "import matplotlib.pyplot as plt\n",
    "import jj\n",
    "from scipy.signal import argrelextrema"
   ]
  },
  {
   "cell_type": "markdown",
   "id": "considerable-courtesy",
   "metadata": {},
   "source": [
    "### Spiking Neural Network Method\n",
    "\n",
    "Josephson Junctions modeled to make firing neurons would imply that they should be used in a specific type of neural network called a Spiking Neural Network. The main inclusion of this type of network is time into the operation. Another difference being the nonlinear and nondifferentiable behavior. Also now the connections between the neurons, the synapses, are weighted for passing current onto the connected neurons. The neuron has a particular threshold at which it will begin firing at different speeds. The weight being how many outputs fire divided by the number of inputs firing.\n",
    "My goals is to recreate the simple neural network with the same structure but with the Spiking Neural Network in mind."
   ]
  },
  {
   "cell_type": "code",
   "execution_count": 2,
   "id": "exclusive-glossary",
   "metadata": {},
   "outputs": [],
   "source": [
    "def sigmoid(x):\n",
    "    \"\"\"\n",
    "    Defines the sigmoid function\n",
    "    \"\"\"\n",
    "    return 1.0/(1+ np.exp(-x))\n",
    "\n",
    "def sigmoid_derivative(x):\n",
    "    \"\"\"\n",
    "    Defines the derivative of the sigmoid function\n",
    "    \"\"\"\n",
    "    return x * (1.0 - x)\n",
    "\n",
    "class NeuralNetwork:\n",
    "    def __init__(self, x, y):\n",
    "        self.input      = x\n",
    "        self.weights1   = np.random.rand(self.input.shape[1],4) \n",
    "        self.weights2   = np.random.rand(4,1)                 \n",
    "        self.y          = y\n",
    "        self.output     = np.zeros(self.y.shape)\n",
    "\n",
    "    def feedforward(self):\n",
    "        # input the feed forward by multiplying first weights by their inputs and then the second weights with the output of the first layer\n",
    "        self.layer1 = sigmoid(np.dot(self.input, self.weights1))\n",
    "        self.output = sigmoid(np.dot(self.layer1, self.weights2))\n",
    "\n",
    "    def backprop(self):\n",
    "        # application of the chain rule to find derivative of the loss function with respect to weights2 and weights1\n",
    "        d_weights2 = np.dot(self.layer1.T, (2*(self.y - self.output) * sigmoid_derivative(self.output)))\n",
    "        d_weights1 = np.dot(self.input.T,  (np.dot(2*(self.y - self.output) * sigmoid_derivative(self.output), self.weights2.T) * sigmoid_derivative(self.layer1)))\n",
    "\n",
    "        # update the weights with the derivative (slope) of the loss function\n",
    "        self.weights1 += d_weights1\n",
    "        self.weights2 += d_weights2"
   ]
  },
  {
   "cell_type": "code",
   "execution_count": 86,
   "id": "permanent-tribune",
   "metadata": {},
   "outputs": [
    {
     "name": "stdout",
     "output_type": "stream",
     "text": [
      "0.47454901815926237\n"
     ]
    }
   ],
   "source": [
    "thres = 0.4 # The threshold for the spiking potential\n",
    "## Time domain set up\n",
    "time = 300 # Final Time\n",
    "n = 20000 # Resolution\n",
    "dt = time / n # A single time step length\n",
    "tspan = np.arange(0, time, dt)  # time span\n",
    "\n",
    "phi_c = np.zeros_like(tspan)\n",
    "v_c = np.zeros_like(tspan)\n",
    "\n",
    "phi_p = np.zeros_like(tspan)\n",
    "v_p = np.zeros_like(tspan)\n",
    "i_o = np.zeros_like(tspan)\n",
    "\n",
    "## System Parameters\n",
    "lmda = 0.1\n",
    "gamma = 1.5\n",
    "lmda_s = 0.5\n",
    "lmda_p = 0.5\n",
    "eta = 1\n",
    "i_in = 0.21\n",
    "i_b = 1.9\n",
    "\n",
    "\n",
    "## Initial Conditions\n",
    "phi_p[0] = 0\n",
    "v_p[0] = 0\n",
    "phi_c[0] = 0\n",
    "v_c[0] = 0\n",
    "i_o[0] = 0\n",
    "i_p = -lmda*(phi_c[0] + phi_p[0]) + lmda_s*i_in + (1-lmda_p)*i_b\n",
    "i_c = (-lmda*(phi_c[0] + phi_p[0]) + lmda_s*i_in - lmda_p*i_b)/eta\n",
    "\n",
    "\n",
    "## Performing the iterations\n",
    "for j in range(np.size(tspan)-1):\n",
    "    phi_p[j+1], v_p[j+1] = jj.junction_step(phi_p[j], v_p[j], dt, gamma, i_p)\n",
    "    phi_c[j+1], v_c[j+1] = jj.junction_step(phi_c[j], v_c[j], dt, gamma, i_c)\n",
    "    i_p = -lmda*(phi_c[j+1] + phi_p[j+1]) + lmda_s*i_in + (1-lmda_p)*i_b\n",
    "    i_c = (-lmda*(phi_c[j+1] + phi_p[j+1]) + lmda_s*i_in - lmda_p*i_b)/eta\n",
    "    i_o[j+1] = np.sin(lmda*(phi_p[j+1]+phi_c[j+1]))\n",
    "    \n",
    "out = lmda*(phi_p+phi_c)\n",
    "maxima = argrelextrema(out,np.greater)\n",
    "spikes = maxima[0].size\n",
    "print(np.max(i_o))\n"
   ]
  },
  {
   "cell_type": "code",
   "execution_count": 84,
   "id": "opened-verse",
   "metadata": {},
   "outputs": [
    {
     "data": {
      "image/png": "[encoded data removed]",
      "text/plain": [
       "<Figure size 432x288 with 1 Axes>"
      ]
     },
     "metadata": {},
     "output_type": "display_data"
    }
   ],
   "source": [
    "## Plotting\n",
    "fig, ax1 = plt.subplots()\n",
    "\n",
    "color = 'black'\n",
    "fig.patch.set_facecolor('white')\n",
    "ax1.set_xlabel('Time (arb. units)')\n",
    "ax1.set_ylabel('Flux (arb. units)')\n",
    "ax1.plot(tspan,i_o, color=color)\n",
    "# ax1.set_xlim(50,250)\n",
    "ax1.set_ylim(-0.1,0.6)\n",
    "\n",
    "fig.tight_layout()\n",
    "plt.show()"
   ]
  },
  {
   "cell_type": "markdown",
   "id": "prime-intake",
   "metadata": {},
   "source": [
    "### Fitting the Sigmoid Function Method\n",
    "It is possible to fit the phase relation of the Josephson Junction to the sigmoid function used for the simple neural network to create a direct analogy with the artificial neural network. This can be done by adding a linear term near $\\varphi \\approx sin(\\varphi)$ in the regime of $\\phi_{in} \\approx 0$. This would allow a direct replacement of the sigmoid function in the basic model I created, which show the ability of the junction to be uses as a neural network."
   ]
  },
  {
   "cell_type": "markdown",
   "id": "meaningful-salvation",
   "metadata": {},
   "source": [
    "Note, time depending I may only be able to realize one of these methods, but would act as further potential work to be done."
   ]
  }
 ],
 "metadata": {
  "kernelspec": {
   "display_name": "Python 3",
   "language": "python",
   "name": "python3"
  },
  "language_info": {
   "codemirror_mode": {
    "name": "ipython",
    "version": 3
   },
   "file_extension": ".py",
   "mimetype": "text/x-python",
   "name": "python",
   "nbconvert_exporter": "python",
   "pygments_lexer": "ipython3",
   "version": "3.7.3"
  }
 },
 "nbformat": 4,
 "nbformat_minor": 5
}
