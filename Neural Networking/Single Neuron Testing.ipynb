{
 "cells": [
  {
   "cell_type": "code",
   "execution_count": 1,
   "id": "dominican-violence",
   "metadata": {},
   "outputs": [],
   "source": [
    "import sys\n",
    "import numpy as np\n",
    "import matplotlib.pyplot as plt\n",
    "import jj"
   ]
  },
  {
   "cell_type": "markdown",
   "id": "threaded-actress",
   "metadata": {},
   "source": [
    "### Single Neuron Testing\n",
    "\n",
    "After creating the neual network, so I am going to test the variables in the system to understand better how they will be used in the neural network."
   ]
  },
  {
   "cell_type": "code",
   "execution_count": 2,
   "id": "little-azerbaijan",
   "metadata": {},
   "outputs": [],
   "source": [
    "## Time domain set up\n",
    "t0 = 0 # Initial Time\n",
    "tf = 300 # Final Time (Change this if you import tensorflow as tf)\n",
    "n = 2000 # Resolution\n",
    "ts = (tf - t0) / n # A single time step length\n",
    "tspan = np.arange(t0, tf + ts, ts)  # time span\n",
    "\n",
    "phi_c = np.zeros_like(tspan)\n",
    "v_c = np.zeros_like(tspan)\n",
    "\n",
    "phi_p = np.zeros_like(tspan)\n",
    "v_p = np.zeros_like(tspan)\n",
    "\n",
    "## System Parameters\n",
    "lmda = 0.1\n",
    "gamma = 1.5\n",
    "lmda_s = 0.5\n",
    "lmda_p = 0.5\n",
    "eta = 1\n",
    "i_in = 0.18\n",
    "i_b = 1.9\n",
    "\n",
    "\n",
    "## Initial Conditions\n",
    "phi_p[0] = 0\n",
    "v_p[0] = 0\n",
    "phi_c[0] = 0\n",
    "v_c[0] = 0\n",
    "i_p = -lmda*(phi_c[0] + phi_p[0]) + lmda_s*i_in + (1-lmda_p)*i_b\n",
    "i_c = (-lmda*(phi_c[0] + phi_p[0]) + lmda_s*i_in - lmda_p*i_b)/eta\n",
    "\n",
    "\n",
    "## Performing the iterations\n",
    "for j in range(np.size(tspan)-1):\n",
    "    phi_p[j+1], v_p[j+1] = jj.junction_step(phi_p[j], v_p[j], ts, gamma, i_p)\n",
    "    phi_c[j+1], v_c[j+1] = jj.junction_step(phi_c[j], v_c[j], ts, gamma, i_c)\n",
    "    i_p = -lmda*(phi_c[j+1] + phi_p[j+1]) + lmda_s*i_in + (1-lmda_p)*i_b\n",
    "    i_c = (-lmda*(phi_c[j+1] + phi_p[j+1]) + lmda_s*i_in - lmda_p*i_b)/eta   "
   ]
  },
  {
   "cell_type": "code",
   "execution_count": 4,
   "id": "contrary-dakota",
   "metadata": {},
   "outputs": [
    {
     "data": {
      "image/png": "[encoded data removed]",
      "text/plain": [
       "<Figure size 432x288 with 2 Axes>"
      ]
     },
     "metadata": {},
     "output_type": "display_data"
    }
   ],
   "source": [
    "## Plotting\n",
    "fig, ax1 = plt.subplots()\n",
    "\n",
    "color = 'black'\n",
    "fig.patch.set_facecolor('white')\n",
    "ax1.set_xlabel('Time (arb. units)')\n",
    "ax1.set_ylabel('Flux (arb. units)')\n",
    "ax1.plot(tspan,lmda*(phi_p+phi_c), color=color)\n",
    "# ax1.set_xlim(50,250)\n",
    "ax1.set_ylim(-0.1,0.6)\n",
    "\n",
    "ax2 = ax1.twinx()\n",
    "\n",
    "ax2.set_ylabel(r'$V_p$, $-V_c$ (arb. units)')\n",
    "ax2.plot(tspan,v_p,'r--')\n",
    "ax2.plot(tspan,-1*v_c,'b--')\n",
    "ax2.legend([r'$v_p(t)$',r'$-v_c(t)$'])\n",
    "ax2.set_ylim(-0.5,2)\n",
    "\n",
    "fig.tight_layout()\n",
    "plt.show()"
   ]
  },
  {
   "cell_type": "markdown",
   "id": "supported-insert",
   "metadata": {},
   "source": [
    "Reducing the input current to 0.18 makes the neuron no longer fire, meaning there is a threshold for the firing of the neuron."
   ]
  }
 ],
 "metadata": {
  "kernelspec": {
   "display_name": "Python 3",
   "language": "python",
   "name": "python3"
  },
  "language_info": {
   "codemirror_mode": {
    "name": "ipython",
    "version": 3
   },
   "file_extension": ".py",
   "mimetype": "text/x-python",
   "name": "python",
   "nbconvert_exporter": "python",
   "pygments_lexer": "ipython3",
   "version": "3.7.3"
  }
 },
 "nbformat": 4,
 "nbformat_minor": 5
}
