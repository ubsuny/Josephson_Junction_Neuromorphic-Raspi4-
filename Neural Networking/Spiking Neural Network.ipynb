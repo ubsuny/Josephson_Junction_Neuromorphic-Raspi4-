{
 "cells": [
  {
   "cell_type": "code",
   "execution_count": 79,
   "id": "increased-torture",
   "metadata": {},
   "outputs": [],
   "source": [
    "import numpy as np\n",
    "import matplotlib.pyplot as plt"
   ]
  },
  {
   "cell_type": "code",
   "execution_count": 362,
   "id": "interracial-chest",
   "metadata": {},
   "outputs": [],
   "source": [
    "time = 1000\n",
    "n = 5000\n",
    "dt = time/n\n",
    "tspan = np.arange(0, time, dt)  # time span\n",
    "\n",
    "vp = 35\n",
    "a = 0.008\n",
    "b = 0.2\n",
    "c = -50\n",
    "d = 10\n",
    "I = 7"
   ]
  },
  {
   "cell_type": "markdown",
   "id": "objective-horse",
   "metadata": {},
   "source": [
    "$C\\frac{dv}{dt}=k(v-v_r)(v-v_t)-u+I$  \n",
    "$\\frac{du}{dt}=a(bv-u)$  \n",
    "if $v\\geq v_p$, then $v = c$ and $u = u+d$"
   ]
  },
  {
   "cell_type": "code",
   "execution_count": 363,
   "id": "corporate-emission",
   "metadata": {},
   "outputs": [],
   "source": [
    "v = np.zeros_like(tspan)\n",
    "u = np.zeros_like(tspan)\n",
    "v[0] = -68.5\n",
    "u[0] = b*v[0]"
   ]
  },
  {
   "cell_type": "code",
   "execution_count": 364,
   "id": "backed-mistress",
   "metadata": {},
   "outputs": [],
   "source": [
    "for j in range(n-1):\n",
    "    v[j+1] = v[j] + dt*( 0.04*v[j]**2 + 5*v[j] + 140 - u[j] + I )\n",
    "    u[j+1] = u[j] + dt*a*( b*v[j]-u[j] )\n",
    "    if v[j+1] > vp:\n",
    "        v[j+1] = c \n",
    "        u[j+1] = u[j+1] + d"
   ]
  },
  {
   "cell_type": "code",
   "execution_count": 365,
   "id": "professional-breath",
   "metadata": {},
   "outputs": [
    {
     "data": {
      "image/png": "[encoded data removed]",
      "text/plain": [
       "<Figure size 432x288 with 1 Axes>"
      ]
     },
     "metadata": {
      "needs_background": "light"
     },
     "output_type": "display_data"
    }
   ],
   "source": [
    "fig = plt.plot()\n",
    "color = 'black'\n",
    "plt.plot(tspan,v)\n",
    "#plt.axis([0, 0.1, -70, 40])\n",
    "plt.show()"
   ]
  },
  {
   "cell_type": "code",
   "execution_count": 232,
   "id": "cultural-registration",
   "metadata": {},
   "outputs": [],
   "source": [
    "x = np.ones([1,25])"
   ]
  },
  {
   "cell_type": "code",
   "execution_count": 242,
   "id": "framed-inquiry",
   "metadata": {},
   "outputs": [],
   "source": [
    "o = [[0,1,1,1,0,\n",
    "       1,0,0,0,1,\n",
    "       1,0,0,0,1,\n",
    "       1,0,0,0,1,\n",
    "       0,1,1,1,0]]"
   ]
  },
  {
   "cell_type": "code",
   "execution_count": 243,
   "id": "underlying-danger",
   "metadata": {},
   "outputs": [],
   "source": [
    "x = [[1,0,0,0,1,\n",
    "       0,1,0,1,0,\n",
    "       0,0,1,0,0,\n",
    "       0,1,0,1,0,\n",
    "       1,0,0,0,1]]"
   ]
  },
  {
   "cell_type": "code",
   "execution_count": null,
   "id": "weighted-sandwich",
   "metadata": {},
   "outputs": [],
   "source": []
  }
 ],
 "metadata": {
  "kernelspec": {
   "display_name": "Python 3",
   "language": "python",
   "name": "python3"
  },
  "language_info": {
   "codemirror_mode": {
    "name": "ipython",
    "version": 3
   },
   "file_extension": ".py",
   "mimetype": "text/x-python",
   "name": "python",
   "nbconvert_exporter": "python",
   "pygments_lexer": "ipython3",
   "version": "3.7.3"
  }
 },
 "nbformat": 4,
 "nbformat_minor": 5
}
