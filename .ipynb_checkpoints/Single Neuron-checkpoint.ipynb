{
 "cells": [
  {
   "cell_type": "code",
   "execution_count": 1,
   "id": "living-yorkshire",
   "metadata": {},
   "outputs": [],
   "source": [
    "import sys\n",
    "import numpy as np\n",
    "import matplotlib.pyplot as plt\n",
    "\n",
    "## Directory for where the jj.py file is located\n",
    "sys.path.append('/home/pi/Documents/Git/Josephson_Junction_Neuromorphic-Raspi4-/')\n",
    "\n",
    "import jj"
   ]
  },
  {
   "cell_type": "markdown",
   "id": "vietnamese-fever",
   "metadata": {},
   "source": [
    "### Single Neuron\n",
    "\n",
    "Now that I have shown in the 'Single Junction.ipynb' that Newton's method of approximation is sufficient for simulating the Josephson Junction, I can couple them as described in Josephson junction simulation of neurons (reference 2 in wiki)\n",
    "\n",
    "$\\ddot{\\phi_p}+\\alpha\\dot{\\phi_p}+sin{(\\phi_p)}=i_p=-\\lambda(\\phi_c + \\phi_p)+\\Lambda_s i_{in}+(1-\\Lambda_p)i_b$\n",
    "$\\eta[\\ddot{\\phi_c}+\\alpha\\dot{\\phi_c}+sin{(\\phi_c)}]=i_c=-\\lambda(\\phi_c + \\phi_p)+\\Lambda_s i_{in}-\\Lambda_p i_b$\n",
    "\n",
    "$\\lambda = 0.1, \\alpha = 1.5, \\Lambda_s = \\Lambda_b = 0.5, \\eta = 1, i_{in} = 0.21$\n"
   ]
  },
  {
   "cell_type": "code",
   "execution_count": 14,
   "id": "exposed-nirvana",
   "metadata": {},
   "outputs": [],
   "source": [
    "## Time domain set up\n",
    "t0 = 0 # Initial Time\n",
    "tf = 300 # Final Time (Change this if you import tensorflow as tf)\n",
    "n = 20000 # Resolution\n",
    "ts = (tf - t0) / n # A single time step length\n",
    "tspan = np.arange(t0, tf + ts, ts)  # time span\n",
    "\n",
    "phi_c = np.zeros_like(tspan)\n",
    "v_c = np.zeros_like(tspan)\n",
    "\n",
    "phi_p = np.zeros_like(tspan)\n",
    "v_p = np.zeros_like(tspan)\n",
    "\n",
    "## System Parameters\n",
    "lmda = 0.1\n",
    "gamma = 1.5\n",
    "lmda_s = 0.5\n",
    "lmda_p = 0.5\n",
    "eta = 1\n",
    "i_in = 0.\n",
    "i_b = 1.9\n",
    "\n",
    "\n",
    "## Initial Conditions\n",
    "phi_p[0] = 0\n",
    "v_p[0] = 0\n",
    "phi_c[0] = 0\n",
    "v_c[0] = 0\n",
    "i_p = -lmda*(phi_c[0] + phi_p[0]) + lmda_s*i_in + (1-lmda_p)*i_b\n",
    "i_c = (-lmda*(phi_c[0] + phi_p[0]) + lmda_s*i_in - lmda_p*i_b)/eta\n",
    "\n",
    "\n",
    "## Performing the iterations\n",
    "for j in range(np.size(tspan)-1):\n",
    "    phi_p[j+1], v_p[j+1] = jj.junction_step(phi_p[j], v_p[j], ts, gamma, i_p)\n",
    "    phi_c[j+1], v_c[j+1] = jj.junction_step(phi_c[j], v_c[j], ts, gamma, i_c)\n",
    "    i_p = -lmda*(phi_c[j+1] + phi_p[j+1]) + lmda_s*i_in + (1-lmda_p)*i_b\n",
    "    i_c = (-lmda*(phi_c[j+1] + phi_p[j+1]) + lmda_s*i_in - lmda_p*i_b)/eta   "
   ]
  },
  {
   "cell_type": "code",
   "execution_count": 15,
   "id": "burning-enemy",
   "metadata": {},
   "outputs": [
    {
     "data": {
      "image/png": "[encoded data removed]",
      "text/plain": [
       "<Figure size 432x288 with 2 Axes>"
      ]
     },
     "metadata": {},
     "output_type": "display_data"
    }
   ],
   "source": [
    "## Plotting\n",
    "fig, ax1 = plt.subplots()\n",
    "\n",
    "color = 'black'\n",
    "fig.patch.set_facecolor('white')\n",
    "ax1.set_xlabel('Time (arb. units)')\n",
    "ax1.set_ylabel('Flux (arb. units)')\n",
    "ax1.plot(tspan,lmda*(phi_p+phi_c), color=color)\n",
    "# ax1.set_xlim(50,250)\n",
    "ax1.set_ylim(-0.1,0.6)\n",
    "\n",
    "ax2 = ax1.twinx()\n",
    "\n",
    "ax2.set_ylabel(r'$V_p$, $-V_c$ (arb. units)')\n",
    "ax2.plot(tspan,v_p,'r--')\n",
    "ax2.plot(tspan,-1*v_c,'b--')\n",
    "ax2.legend([r'$v_p(t)$',r'$-v_c(t)$'])\n",
    "ax2.set_ylim(-0.5,2)\n",
    "\n",
    "fig.tight_layout()\n",
    "plt.show()"
   ]
  },
  {
   "cell_type": "markdown",
   "id": "proprietary-bookmark",
   "metadata": {},
   "source": [
    "This figure is almost identical to the one in the Josephson junction simulation of neurons paper(wiki reference 2). Here it shows the periodic behaviour of the simulated neuron, and has the profile of an action potential. This is how neurons fire, and shows that we can use these coupled junctions with the correct parameters to creat a neural network."
   ]
  },
  {
   "cell_type": "markdown",
   "id": "cosmetic-bulgarian",
   "metadata": {},
   "source": [
    "Now I double check the function that only does a single time step"
   ]
  },
  {
   "cell_type": "code",
   "execution_count": 4,
   "id": "documentary-berry",
   "metadata": {},
   "outputs": [
    {
     "name": "stdout",
     "output_type": "stream",
     "text": [
      "14.9 µs ± 34.8 ns per loop (mean ± std. dev. of 7 runs, 100000 loops each)\n"
     ]
    }
   ],
   "source": [
    "%timeit jj.junction_step(phi_p[j], v_p[j], ts, gamma, i_p)"
   ]
  },
  {
   "cell_type": "markdown",
   "id": "timely-profession",
   "metadata": {},
   "source": [
    "The code is taking roughly 13 microseconds, which if you loop 20000 times, which is what my code does, then you get back 0.26 seconds, which matches the method of the first function used in 'Single Junction.ipynb'. The only difference in these methods is the first one will calculate all the time steps, where this one performs a single step to allow for a more intuitive coupling of the junctions."
   ]
  }
 ],
 "metadata": {
  "kernelspec": {
   "display_name": "Python 3",
   "language": "python",
   "name": "python3"
  },
  "language_info": {
   "codemirror_mode": {
    "name": "ipython",
    "version": 3
   },
   "file_extension": ".py",
   "mimetype": "text/x-python",
   "name": "python",
   "nbconvert_exporter": "python",
   "pygments_lexer": "ipython3",
   "version": "3.7.3"
  }
 },
 "nbformat": 4,
 "nbformat_minor": 5
}
